{
 "cells": [
  {
   "cell_type": "markdown",
   "metadata": {},
   "source": [
    "# Marketing Campaign Analysis"
   ]
  },
  {
   "cell_type": "markdown",
   "metadata": {},
   "source": [
    "## Business Understanding\n",
    "### Overview\n",
    "Podha, a growing company, has been running multiple marketing campaigns to acquire new customers. However, due to a crunch in funds, the company has decided to limit its efforts to a single marketing campaign that optimizes budget utilization while maximizing customer acquisition and profitability. Additionally, there is a need to predict customer acquisition based on the available budget.\n",
    "\n",
    "### Business Problem\n",
    "The company must identify which marketing campaign has brought in the most profitable customers to ensure financial stability and growth. Furthermore, predicting customer acquisition based on budget will help in strategic planning and resource allocation.\n",
    "\n",
    "Therefore, I aim to:\n",
    "1. Evaluate the performance of past marketing campaigns.\n",
    "2. Determine the best acquisition source based on profitability metrics.\n",
    "3. Predict customer acquisition based on Podha's budget.\n",
    "4. Provide actionable recommendations supported by data visualization to inform strategic decisions.\n"
   ]
  },
  {
   "cell_type": "markdown",
   "metadata": {},
   "source": [
    "## Data Understanding\n",
    "Here, I intend to comprehensively explore and analyze our dataset to gain insights into its structure, content, and quality."
   ]
  },
  {
   "cell_type": "code",
   "execution_count": 1,
   "metadata": {},
   "outputs": [],
   "source": [
    "# Import necessary libraries\n",
    "\n",
    "import pandas as pd\n",
    "import matplotlib.pyplot as plt\n",
    "import seaborn as sns\n",
    "\n",
    "import warnings\n",
    "warnings.filterwarnings(\"ignore\", category=RuntimeWarning)"
   ]
  },
  {
   "cell_type": "code",
   "execution_count": 2,
   "metadata": {},
   "outputs": [
    {
     "name": "stderr",
     "output_type": "stream",
     "text": [
      "c:\\Users\\hp\\anaconda3\\envs\\learn-env\\lib\\site-packages\\IPython\\core\\interactiveshell.py:3145: DtypeWarning: Columns (3,10) have mixed types.Specify dtype option on import or set low_memory=False.\n",
      "  has_raised = await self.run_ast_nodes(code_ast.body, cell_name,\n"
     ]
    }
   ],
   "source": [
    "# Load the dataset\n",
    "file_path = 'data/Order_Data_meriskill.csv'\n",
    "df = pd.read_csv(file_path)"
   ]
  },
  {
   "cell_type": "code",
   "execution_count": 3,
   "metadata": {},
   "outputs": [
    {
     "data": {
      "text/html": [
       "<div>\n",
       "<style scoped>\n",
       "    .dataframe tbody tr th:only-of-type {\n",
       "        vertical-align: middle;\n",
       "    }\n",
       "\n",
       "    .dataframe tbody tr th {\n",
       "        vertical-align: top;\n",
       "    }\n",
       "\n",
       "    .dataframe thead th {\n",
       "        text-align: right;\n",
       "    }\n",
       "</style>\n",
       "<table border=\"1\" class=\"dataframe\">\n",
       "  <thead>\n",
       "    <tr style=\"text-align: right;\">\n",
       "      <th></th>\n",
       "      <th>OrderID</th>\n",
       "      <th>Region</th>\n",
       "      <th>Country</th>\n",
       "      <th>CustID</th>\n",
       "      <th>Customer_Name</th>\n",
       "      <th>ProductSKU</th>\n",
       "      <th>Product_Category</th>\n",
       "      <th>OrderLineItem</th>\n",
       "      <th>OrderQuantity</th>\n",
       "      <th>ProductCost</th>\n",
       "      <th>ProductPrice</th>\n",
       "      <th>OrderDate</th>\n",
       "      <th>AcquisitionSource</th>\n",
       "      <th>TransactionID</th>\n",
       "      <th>Fraud</th>\n",
       "      <th>PaymentMethod</th>\n",
       "      <th>CardType</th>\n",
       "      <th>Gender</th>\n",
       "    </tr>\n",
       "  </thead>\n",
       "  <tbody>\n",
       "    <tr>\n",
       "      <th>0</th>\n",
       "      <td>SO45080</td>\n",
       "      <td>Northwest</td>\n",
       "      <td>United States</td>\n",
       "      <td>14657</td>\n",
       "      <td>JOHN THOMAS</td>\n",
       "      <td>BK-R50B-58</td>\n",
       "      <td>Plants</td>\n",
       "      <td>1</td>\n",
       "      <td>1.0</td>\n",
       "      <td>413.1463</td>\n",
       "      <td>699.0982</td>\n",
       "      <td>01-01-2020</td>\n",
       "      <td>Meta-ads\\r</td>\n",
       "      <td>I4127227587819694</td>\n",
       "      <td>False</td>\n",
       "      <td>CREDITCARD</td>\n",
       "      <td>DISCOVER</td>\n",
       "      <td>M</td>\n",
       "    </tr>\n",
       "    <tr>\n",
       "      <th>1</th>\n",
       "      <td>SO45079</td>\n",
       "      <td>Southwest</td>\n",
       "      <td>United States</td>\n",
       "      <td>29255</td>\n",
       "      <td>KYLE WASHINGTON</td>\n",
       "      <td>BK-R93R-48</td>\n",
       "      <td>Plants</td>\n",
       "      <td>1</td>\n",
       "      <td>1.0</td>\n",
       "      <td>2171.2942</td>\n",
       "      <td>3578.27</td>\n",
       "      <td>01-01-2020</td>\n",
       "      <td>Google-ads\\r</td>\n",
       "      <td>E9525730529761877</td>\n",
       "      <td>False</td>\n",
       "      <td>CREDITCARD</td>\n",
       "      <td>MC</td>\n",
       "      <td>M</td>\n",
       "    </tr>\n",
       "    <tr>\n",
       "      <th>2</th>\n",
       "      <td>SO45082</td>\n",
       "      <td>Australia</td>\n",
       "      <td>Australia</td>\n",
       "      <td>11455</td>\n",
       "      <td>ROSS SANZ</td>\n",
       "      <td>BK-M82B-44</td>\n",
       "      <td>Plants</td>\n",
       "      <td>1</td>\n",
       "      <td>1.0</td>\n",
       "      <td>1898.0944</td>\n",
       "      <td>3374.99</td>\n",
       "      <td>01-01-2020</td>\n",
       "      <td>Google-ads\\r</td>\n",
       "      <td>Z6376643485803420</td>\n",
       "      <td>False</td>\n",
       "      <td>CREDITCARD</td>\n",
       "      <td>VISA</td>\n",
       "      <td>M</td>\n",
       "    </tr>\n",
       "    <tr>\n",
       "      <th>3</th>\n",
       "      <td>SO45081</td>\n",
       "      <td>Canada</td>\n",
       "      <td>Canada</td>\n",
       "      <td>26782</td>\n",
       "      <td>SETH LEWIS</td>\n",
       "      <td>BK-R50B-44</td>\n",
       "      <td>Plants</td>\n",
       "      <td>1</td>\n",
       "      <td>1.0</td>\n",
       "      <td>413.1463</td>\n",
       "      <td>699.0982</td>\n",
       "      <td>01-01-2020</td>\n",
       "      <td>Google-ads\\r</td>\n",
       "      <td>R8609290025411138</td>\n",
       "      <td>False</td>\n",
       "      <td>CREDITCARD</td>\n",
       "      <td>VISA</td>\n",
       "      <td>M</td>\n",
       "    </tr>\n",
       "    <tr>\n",
       "      <th>4</th>\n",
       "      <td>SO45083</td>\n",
       "      <td>United Kingdom</td>\n",
       "      <td>United Kingdom</td>\n",
       "      <td>14947</td>\n",
       "      <td>ALEJANDRO CHEN</td>\n",
       "      <td>BK-R93R-48</td>\n",
       "      <td>Plants</td>\n",
       "      <td>1</td>\n",
       "      <td>1.0</td>\n",
       "      <td>2171.2942</td>\n",
       "      <td>3578.27</td>\n",
       "      <td>02-01-2020</td>\n",
       "      <td>Meta-ads\\r</td>\n",
       "      <td>Y9572700698484288</td>\n",
       "      <td>False</td>\n",
       "      <td>CREDITCARD</td>\n",
       "      <td>VISA</td>\n",
       "      <td>M</td>\n",
       "    </tr>\n",
       "  </tbody>\n",
       "</table>\n",
       "</div>"
      ],
      "text/plain": [
       "   OrderID          Region         Country CustID    Customer_Name  \\\n",
       "0  SO45080       Northwest   United States  14657      JOHN THOMAS   \n",
       "1  SO45079       Southwest   United States  29255  KYLE WASHINGTON   \n",
       "2  SO45082       Australia       Australia  11455        ROSS SANZ   \n",
       "3  SO45081          Canada          Canada  26782       SETH LEWIS   \n",
       "4  SO45083  United Kingdom  United Kingdom  14947   ALEJANDRO CHEN   \n",
       "\n",
       "   ProductSKU Product_Category  OrderLineItem  OrderQuantity  ProductCost  \\\n",
       "0  BK-R50B-58           Plants              1            1.0     413.1463   \n",
       "1  BK-R93R-48           Plants              1            1.0    2171.2942   \n",
       "2  BK-M82B-44           Plants              1            1.0    1898.0944   \n",
       "3  BK-R50B-44           Plants              1            1.0     413.1463   \n",
       "4  BK-R93R-48           Plants              1            1.0    2171.2942   \n",
       "\n",
       "  ProductPrice   OrderDate AcquisitionSource      TransactionID  Fraud  \\\n",
       "0     699.0982  01-01-2020        Meta-ads\\r  I4127227587819694  False   \n",
       "1      3578.27  01-01-2020      Google-ads\\r  E9525730529761877  False   \n",
       "2      3374.99  01-01-2020      Google-ads\\r  Z6376643485803420  False   \n",
       "3     699.0982  01-01-2020      Google-ads\\r  R8609290025411138  False   \n",
       "4      3578.27  02-01-2020        Meta-ads\\r  Y9572700698484288  False   \n",
       "\n",
       "  PaymentMethod  CardType Gender  \n",
       "0    CREDITCARD  DISCOVER      M  \n",
       "1    CREDITCARD        MC      M  \n",
       "2    CREDITCARD      VISA      M  \n",
       "3    CREDITCARD      VISA      M  \n",
       "4    CREDITCARD      VISA      M  "
      ]
     },
     "execution_count": 3,
     "metadata": {},
     "output_type": "execute_result"
    }
   ],
   "source": [
    "# View the first five rows of the dataset to see if loading has been done correctly\n",
    "df.head()"
   ]
  },
  {
   "cell_type": "code",
   "execution_count": 4,
   "metadata": {},
   "outputs": [
    {
     "name": "stdout",
     "output_type": "stream",
     "text": [
      "<class 'pandas.core.frame.DataFrame'>\n",
      "RangeIndex: 55910 entries, 0 to 55909\n",
      "Data columns (total 18 columns):\n",
      " #   Column             Non-Null Count  Dtype  \n",
      "---  ------             --------------  -----  \n",
      " 0   OrderID            55910 non-null  object \n",
      " 1   Region             55910 non-null  object \n",
      " 2   Country            55910 non-null  object \n",
      " 3   CustID             55910 non-null  object \n",
      " 4   Customer_Name      55907 non-null  object \n",
      " 5   ProductSKU         55910 non-null  object \n",
      " 6   Product_Category   55910 non-null  object \n",
      " 7   OrderLineItem      55910 non-null  int64  \n",
      " 8   OrderQuantity      55910 non-null  float64\n",
      " 9   ProductCost        55910 non-null  float64\n",
      " 10  ProductPrice       55910 non-null  object \n",
      " 11  OrderDate          55910 non-null  object \n",
      " 12  AcquisitionSource  55909 non-null  object \n",
      " 13  TransactionID      55910 non-null  object \n",
      " 14  Fraud              55207 non-null  object \n",
      " 15  PaymentMethod      55910 non-null  object \n",
      " 16  CardType           50687 non-null  object \n",
      " 17  Gender             49582 non-null  object \n",
      "dtypes: float64(2), int64(1), object(15)\n",
      "memory usage: 7.7+ MB\n"
     ]
    }
   ],
   "source": [
    "# View the overallinformation of each column\n",
    "df.info()"
   ]
  },
  {
   "cell_type": "code",
   "execution_count": 5,
   "metadata": {},
   "outputs": [
    {
     "data": {
      "text/html": [
       "<div>\n",
       "<style scoped>\n",
       "    .dataframe tbody tr th:only-of-type {\n",
       "        vertical-align: middle;\n",
       "    }\n",
       "\n",
       "    .dataframe tbody tr th {\n",
       "        vertical-align: top;\n",
       "    }\n",
       "\n",
       "    .dataframe thead th {\n",
       "        text-align: right;\n",
       "    }\n",
       "</style>\n",
       "<table border=\"1\" class=\"dataframe\">\n",
       "  <thead>\n",
       "    <tr style=\"text-align: right;\">\n",
       "      <th></th>\n",
       "      <th>OrderLineItem</th>\n",
       "      <th>OrderQuantity</th>\n",
       "      <th>ProductCost</th>\n",
       "    </tr>\n",
       "  </thead>\n",
       "  <tbody>\n",
       "    <tr>\n",
       "      <th>count</th>\n",
       "      <td>55910.000000</td>\n",
       "      <td>55910.000000</td>\n",
       "      <td>55910.000000</td>\n",
       "    </tr>\n",
       "    <tr>\n",
       "      <th>mean</th>\n",
       "      <td>1.903237</td>\n",
       "      <td>1.501607</td>\n",
       "      <td>256.143102</td>\n",
       "    </tr>\n",
       "    <tr>\n",
       "      <th>std</th>\n",
       "      <td>1.021286</td>\n",
       "      <td>0.612305</td>\n",
       "      <td>496.563101</td>\n",
       "    </tr>\n",
       "    <tr>\n",
       "      <th>min</th>\n",
       "      <td>1.000000</td>\n",
       "      <td>1.000000</td>\n",
       "      <td>0.856500</td>\n",
       "    </tr>\n",
       "    <tr>\n",
       "      <th>25%</th>\n",
       "      <td>1.000000</td>\n",
       "      <td>1.000000</td>\n",
       "      <td>2.973300</td>\n",
       "    </tr>\n",
       "    <tr>\n",
       "      <th>50%</th>\n",
       "      <td>2.000000</td>\n",
       "      <td>1.000000</td>\n",
       "      <td>11.216300</td>\n",
       "    </tr>\n",
       "    <tr>\n",
       "      <th>75%</th>\n",
       "      <td>2.000000</td>\n",
       "      <td>2.000000</td>\n",
       "      <td>59.466000</td>\n",
       "    </tr>\n",
       "    <tr>\n",
       "      <th>max</th>\n",
       "      <td>8.000000</td>\n",
       "      <td>3.000000</td>\n",
       "      <td>2171.294200</td>\n",
       "    </tr>\n",
       "  </tbody>\n",
       "</table>\n",
       "</div>"
      ],
      "text/plain": [
       "       OrderLineItem  OrderQuantity   ProductCost\n",
       "count   55910.000000   55910.000000  55910.000000\n",
       "mean        1.903237       1.501607    256.143102\n",
       "std         1.021286       0.612305    496.563101\n",
       "min         1.000000       1.000000      0.856500\n",
       "25%         1.000000       1.000000      2.973300\n",
       "50%         2.000000       1.000000     11.216300\n",
       "75%         2.000000       2.000000     59.466000\n",
       "max         8.000000       3.000000   2171.294200"
      ]
     },
     "execution_count": 5,
     "metadata": {},
     "output_type": "execute_result"
    }
   ],
   "source": [
    "# Summary statistics of numerical columns\n",
    "df.describe()"
   ]
  },
  {
   "cell_type": "markdown",
   "metadata": {},
   "source": [
    "### Data Overview\n",
    "The dataset provides comprehensive information about customer transactions, including their demographics, purchasing behavior, product preferences, and the sources from which they were acquired.\n",
    "- **Rows**: 55,910.\n",
    "- **Columns**: 18.\n",
    "- **Column Names**: \n",
    "     - `Customer Identification and Demographics`: CustID, Customer_Name, Gender.\n",
    "     - `Transaction and Order Details`: OrderID, OrderLineItem, OrderQuantity, OrderDate, TransactionID.\n",
    "     - `Geographic Data`: Region, Country.\n",
    "     - `Product Information`: ProductSKU, Product_Category, ProductCost, ProductPrice.\n",
    "     - `Customer Acquisition Data`: AcquisitionSource.\n",
    "     - `Payment Information`: PaymentMethod, CardType.\n",
    "     - `Risk and Fraud`: Fraud.\n",
    "- **Data Types**:\n",
    "     - `Numerical Columns`: 3.\n",
    "     - `Categorical Columns`: 15.\n",
    "\n",
    "     **NOTE**: `ProductPrice` is stored as an object and needs to be converted to a numeric format for meaningful statistics.\n",
    "- **Missing Values**:\n",
    "     - `Customer_Name`: 3 missing values.\n",
    "     - `AcquisitionSource`: 1 missing value.\n",
    "     - `Fraud`: 703 missing values.\n",
    "     - `CardType`: 5,223 missing values.\n",
    "     - `Gender`: 6,328 missing values.\n",
    "- **Relevance to Objectives**\n",
    "     - `Marketing Campaign Analysis`: Columns such as AcquisitionSource, ProductCost, ProductPrice, and OrderQuantity are directly relevant to calculating profitability and identifying effective campaigns.\n",
    "     - `Customer Acquisition Prediction`: Fields like Region, Country, AcquisitionSource, and budget-related fields (ProductCost, ProductPrice) can be used to build predictive models."
   ]
  },
  {
   "cell_type": "markdown",
   "metadata": {},
   "source": [
    "## Data Cleaning\n",
    "I am going to identify, correct, and remove errors, inconsistencies, and inaccuracies in our dataset to ensure that the data is accurate, complete, and reliable for analysis."
   ]
  },
  {
   "cell_type": "markdown",
   "metadata": {},
   "source": [
    "#### 1. Change Data Types of Columns\n",
    "Some columns may need to have their data types changed to ensure they are correctly interpreted for analysis (e.g., converting dates from string to datetime format or numerical columns from object to float).\n",
    "\n",
    "In this step, we are converting the 'ProductPrice' column from an object (string) data type to a numeric data type (float). This is necessary because 'ProductPrice' represents a numerical value, and performing mathematical operations on it in its current string format would not be possible."
   ]
  },
  {
   "cell_type": "code",
   "execution_count": 6,
   "metadata": {},
   "outputs": [],
   "source": [
    "# Convert `ProductPrice` to numeric\n",
    "df.loc[:, 'ProductPrice'] = pd.to_numeric(df['ProductPrice'], errors='coerce')"
   ]
  },
  {
   "cell_type": "markdown",
   "metadata": {},
   "source": [
    "#### 2. Remove Duplicates\n",
    "In this step, we will identify and remove any duplicate rows from the dataset to ensure data integrity and avoid biases in analysis."
   ]
  },
  {
   "cell_type": "code",
   "execution_count": 7,
   "metadata": {},
   "outputs": [
    {
     "data": {
      "text/plain": [
       "0"
      ]
     },
     "execution_count": 7,
     "metadata": {},
     "output_type": "execute_result"
    }
   ],
   "source": [
    "# Check for duplicates\n",
    "df.duplicated().sum()"
   ]
  },
  {
   "cell_type": "markdown",
   "metadata": {},
   "source": [
    "There are **no duplicate rows** in the dataset. Each row in the DataFrame represents a unique record, and no two rows are identical in terms of all column values."
   ]
  },
  {
   "cell_type": "markdown",
   "metadata": {},
   "source": [
    "#### 3. Handle Missing Values\n",
    "Missing values in the dataset are handled by filling them with appropriate values or removing rows/columns that contain them, ensuring the dataset is complete for analysis."
   ]
  },
  {
   "cell_type": "code",
   "execution_count": 8,
   "metadata": {},
   "outputs": [
    {
     "data": {
      "text/plain": [
       "OrderID                 0\n",
       "Region                  0\n",
       "Country                 0\n",
       "CustID                  0\n",
       "Customer_Name           3\n",
       "ProductSKU              0\n",
       "Product_Category        0\n",
       "OrderLineItem           0\n",
       "OrderQuantity           0\n",
       "ProductCost             0\n",
       "ProductPrice            1\n",
       "OrderDate               0\n",
       "AcquisitionSource       1\n",
       "TransactionID           0\n",
       "Fraud                 703\n",
       "PaymentMethod           0\n",
       "CardType             5223\n",
       "Gender               6328\n",
       "dtype: int64"
      ]
     },
     "execution_count": 8,
     "metadata": {},
     "output_type": "execute_result"
    }
   ],
   "source": [
    "# Check for missing values\n",
    "df.isna().sum()"
   ]
  },
  {
   "cell_type": "markdown",
   "metadata": {},
   "source": [
    "A couple of columns have missing values. They include:\n",
    "- **Customer_Name**: 3 missing values.\n",
    "- **AcquisitionSource**: 1 missing value.\n",
    "- **Fraud**: 703 missing values. \n",
    "- **CardType**: 5,223 missing values.\n",
    "- **Gender**: 6,328 missing values. \n",
    "\n",
    "**Implications for Data Cleaning**\n",
    "1. **Handle Columns with Few Missing Values**:\n",
    "   - `Customer_Name` and `AcquisitionSource`: Consider imputing with a placeholder value like \"Unknown\" to retain these records.\n",
    "\n",
    "2. **Handle Columns with Significant Missing Values**:\n",
    "   - `Fraud`, `CardType`, and `Gender`: Assess the relevance of these columns to the analysis. Options include:\n",
    "     - Imputing missing values with a default or mode if applicable.\n",
    "     - Dropping these columns if they are not critical for analysis.\n",
    "     - Filtering out rows with missing values if the dataset size allows."
   ]
  },
  {
   "cell_type": "code",
   "execution_count": 9,
   "metadata": {},
   "outputs": [
    {
     "data": {
      "text/plain": [
       "OrderID              0\n",
       "Region               0\n",
       "Country              0\n",
       "CustID               0\n",
       "Customer_Name        0\n",
       "ProductSKU           0\n",
       "Product_Category     0\n",
       "OrderLineItem        0\n",
       "OrderQuantity        0\n",
       "ProductCost          0\n",
       "ProductPrice         0\n",
       "OrderDate            0\n",
       "AcquisitionSource    0\n",
       "TransactionID        0\n",
       "PaymentMethod        0\n",
       "dtype: int64"
      ]
     },
     "execution_count": 9,
     "metadata": {},
     "output_type": "execute_result"
    }
   ],
   "source": [
    "# Fill missing values in 'Customer_Name' column with 'Unknown'\n",
    "df['Customer_Name'] = df['Customer_Name'].fillna(\"Unknown\")\n",
    "\n",
    "# Fill missing values in 'AcquisitionSource' column with 'Unknown'\n",
    "df['AcquisitionSource'] = df['AcquisitionSource'].fillna(\"Unknown\")\n",
    "\n",
    "# Drop rows with missing values in any column \n",
    "df.dropna(inplace=True)\n",
    "\n",
    "# Drop the 'Fraud', 'CardType', and 'Gender' columns from the DataFrame as they are not relevant to the analysis\n",
    "df = df.drop(columns = ['Fraud', 'CardType', 'Gender'])\n",
    "\n",
    "\n",
    "# Check again to see if all missing values are handled\n",
    "df.isna().sum()"
   ]
  },
  {
   "cell_type": "markdown",
   "metadata": {},
   "source": [
    "All missing values have been dealt with accordingly."
   ]
  },
  {
   "cell_type": "markdown",
   "metadata": {},
   "source": [
    "#### 4. Filter Relevant Columns\n",
    "We will filter the dataset to include only the columns that are relevant to our analysis, removing unnecessary columns to simplify the dataset.\n",
    "\n",
    "In this step, we are narrowing down the dataset by selecting only the columns that are relevant for our analysis. The columns we are keeping are:\n",
    "\n",
    "- **AcquisitionSource**: The source through which the customer was acquired.\n",
    "- **OrderQuantity**: The number of products ordered by the customer.\n",
    "- **ProductCost**: The cost of the product.\n",
    "- **ProductPrice**: The selling price of the product.\n",
    "- **CustID**: A unique identifier for each customer.\n",
    "\n",
    "This step helps reduce the complexity of the dataset and focuses only on the necessary features for further analysis."
   ]
  },
  {
   "cell_type": "code",
   "execution_count": 10,
   "metadata": {},
   "outputs": [],
   "source": [
    "# Filter the dataset to include only relevant columns\n",
    "columns_to_keep = [\n",
    "    'AcquisitionSource', 'OrderQuantity', 'ProductCost', \n",
    "    'ProductPrice', 'CustID'\n",
    "]\n",
    "\n",
    "# Filter the DataFrame\n",
    "df_filtered = df[columns_to_keep]"
   ]
  },
  {
   "cell_type": "markdown",
   "metadata": {},
   "source": [
    "#### 4. Change Data Types of Columns\n",
    "Some columns may need to have their data types changed to ensure they are correctly interpreted for analysis (e.g., converting dates from string to datetime format or numerical columns from object to float).\n",
    "\n",
    "In this step, we are converting the 'ProductPrice' column from an object (string) data type to a numeric data type (float). This is necessary because 'ProductPrice' represents a numerical value, and performing mathematical operations on it in its current string format would not be possible."
   ]
  },
  {
   "cell_type": "markdown",
   "metadata": {},
   "source": [
    "## Feature Engineering\n",
    "This involves creating new features relevant to the analysis."
   ]
  },
  {
   "cell_type": "code",
   "execution_count": 11,
   "metadata": {},
   "outputs": [],
   "source": [
    "# Create a copy of the DataFrame\n",
    "df_filtered = df_filtered.copy()\n",
    "\n",
    "# Calculate Total Profit\n",
    "df_filtered['TotalProfit'] = (df_filtered['ProductPrice'] - df_filtered['ProductCost']) * df_filtered['OrderQuantity']\n",
    "\n",
    "# Calculate Budget (Total Spend)\n",
    "df_filtered['Budget'] = df_filtered['ProductCost'] * df_filtered['OrderQuantity']\n",
    "\n",
    "# Summarize data by AcquisitionSource\n",
    "campaign_summary = df_filtered.groupby('AcquisitionSource').agg({\n",
    "    'TotalProfit': 'sum',\n",
    "    'Budget': 'sum',\n",
    "    'CustID': 'nunique'  # Unique users acquired\n",
    "}).rename(columns={'CustID': 'UsersAcquired'}).reset_index()\n",
    "\n",
    "# Calculate Profitability per User\n",
    "campaign_summary['Profitability'] = campaign_summary['TotalProfit'] / campaign_summary['UsersAcquired']"
   ]
  },
  {
   "cell_type": "markdown",
   "metadata": {},
   "source": [
    "#### Save Processed DataFrame as CSV"
   ]
  },
  {
   "cell_type": "code",
   "execution_count": 12,
   "metadata": {},
   "outputs": [],
   "source": [
    "# Save the 'df_filtered' DataFrame as a CSV file in the 'Customer_Prediction/data/' folder\n",
    "df_filtered.to_csv('../Customer_Prediction/data/df_filtered.csv', index=False)"
   ]
  },
  {
   "cell_type": "markdown",
   "metadata": {},
   "source": [
    "## Exploratory Data Analysis\n",
    "This involves using various plotting techniques to visually inspect the data."
   ]
  },
  {
   "cell_type": "markdown",
   "metadata": {},
   "source": [
    "#### 1. Profitability per User by Acquisition Source"
   ]
  },
  {
   "cell_type": "code",
   "execution_count": 13,
   "metadata": {},
   "outputs": [
    {
     "data": {
      "image/png": "[encoded data removed]",
      "text/plain": [
       "<Figure size 864x432 with 1 Axes>"
      ]
     },
     "metadata": {
      "needs_background": "light"
     },
     "output_type": "display_data"
    }
   ],
   "source": [
    "# Sort the campaign summary by 'Profitability' in descending order\n",
    "campaign_summary_sorted = campaign_summary.sort_values(by='Profitability', ascending=False)\n",
    "\n",
    "# Set the figure size for the plot\n",
    "plt.figure(figsize=(12, 6))\n",
    "\n",
    "# Create a bar plot to visualize profitability per user by acquisition source\n",
    "sns.barplot(x='AcquisitionSource', y='Profitability', data=campaign_summary_sorted, palette='viridis')\n",
    "\n",
    "# Set the title, x-axis label and y-axis label of the plot\n",
    "plt.title('Profitability per User by Campaign', fontsize=16)\n",
    "plt.xlabel('Acquisition Source', fontsize=14)\n",
    "plt.ylabel('Profitability', fontsize=14)\n",
    "\n",
    "# Rotate x-axis labels for better readability\n",
    "plt.xticks(rotation=45)\n",
    "\n",
    "# Add the values on top of the bars\n",
    "for index, value in enumerate(campaign_summary_sorted['Profitability']):\n",
    "    plt.text(index, value + 0.05, str(int(value)), ha='center', va='bottom', fontsize=12)\n",
    "\n",
    "plt.tight_layout()\n",
    "plt.show()"
   ]
  },
  {
   "cell_type": "markdown",
   "metadata": {},
   "source": [
    "#### 2. Total Profit by Acquisition Source"
   ]
  },
  {
   "cell_type": "code",
   "execution_count": 14,
   "metadata": {},
   "outputs": [
    {
     "data": {
      "image/png": "[encoded data removed]",
      "text/plain": [
       "<Figure size 864x432 with 1 Axes>"
      ]
     },
     "metadata": {
      "needs_background": "light"
     },
     "output_type": "display_data"
    }
   ],
   "source": [
    "# Sort the campaign summary by 'TotalProfit' in descending order\n",
    "campaign_summary_sorted = campaign_summary.sort_values(by='TotalProfit', ascending=False)\n",
    "\n",
    "# Set the figure size for the plot\n",
    "plt.figure(figsize=(12, 6))\n",
    "\n",
    "# Create a bar plot to visualize total profit by acquisition source\n",
    "sns.barplot(x='AcquisitionSource', y='TotalProfit', data=campaign_summary_sorted, palette='coolwarm')\n",
    "\n",
    "# Set the title, x-axis label and y-axis label of the plot\n",
    "plt.title('Total Profit by Campaign', fontsize=16)\n",
    "plt.xlabel('Acquisition Source', fontsize=14)\n",
    "plt.ylabel('Total Profit', fontsize=14)\n",
    "\n",
    "# Rotate x-axis labels for better readability\n",
    "plt.xticks(rotation=45)\n",
    "\n",
    "# Add the values on top of the bars\n",
    "for index, value in enumerate(campaign_summary_sorted['TotalProfit']):\n",
    "    plt.text(index, value + 0.05, str(int(value)), ha='center', va='bottom', fontsize=12)\n",
    "\n",
    "plt.tight_layout()\n",
    "plt.show()"
   ]
  },
  {
   "cell_type": "markdown",
   "metadata": {},
   "source": [
    "#### 3. Users Acquired by Acquisition Source"
   ]
  },
  {
   "cell_type": "code",
   "execution_count": 15,
   "metadata": {},
   "outputs": [
    {
     "data": {
      "image/png": "[encoded data removed]",
      "text/plain": [
       "<Figure size 864x432 with 1 Axes>"
      ]
     },
     "metadata": {
      "needs_background": "light"
     },
     "output_type": "display_data"
    }
   ],
   "source": [
    "# Sort the campaign summary by 'UsersAcquired' in descending order\n",
    "campaign_summary_sorted = campaign_summary.sort_values(by='UsersAcquired', ascending=False)\n",
    "\n",
    "# Set the figure size for the plot\n",
    "plt.figure(figsize=(12, 6))\n",
    "\n",
    "# Create a bar plot to visualize users acquired by acquisition source\n",
    "sns.barplot(x='AcquisitionSource', y='UsersAcquired', data=campaign_summary_sorted, palette='Blues')\n",
    "\n",
    "# Set the title, x-axis label and y-axis label of the plot\n",
    "plt.title('Users Acquired by Campaign', fontsize=16)\n",
    "plt.xlabel('Acquisition Source', fontsize=14)\n",
    "plt.ylabel('Users Acquired', fontsize=14)\n",
    "\n",
    "# Rotate x-axis labels for better readability\n",
    "plt.xticks(rotation=45)\n",
    "\n",
    "# Add the values on top of the bars\n",
    "for index, value in enumerate(campaign_summary_sorted['UsersAcquired']):\n",
    "    plt.text(index, value + 0.05, str(int(value)), ha='center', va='bottom', fontsize=12)\n",
    "\n",
    "plt.tight_layout()\n",
    "plt.show()"
   ]
  }
 ],
 "metadata": {
  "kernelspec": {
   "display_name": "learn-env",
   "language": "python",
   "name": "python3"
  },
  "language_info": {
   "codemirror_mode": {
    "name": "ipython",
    "version": 3
   },
   "file_extension": ".py",
   "mimetype": "text/x-python",
   "name": "python",
   "nbconvert_exporter": "python",
   "pygments_lexer": "ipython3",
   "version": "3.8.5"
  }
 },
 "nbformat": 4,
 "nbformat_minor": 2
}
